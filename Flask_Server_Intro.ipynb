{
 "cells": [
  {
   "cell_type": "markdown",
   "metadata": {},
   "source": [
    "<div style=\"font-family: 'Arial', sans-serif; max-width: 800px; margin: auto; padding: 15px 0;\">\n",
    "    <h1 style=\"color: #666;\">Att Starta en Flask-Server från Grunden</h1>\n",
    "</div>\n"
   ]
  },
  {
   "cell_type": "markdown",
   "metadata": {},
   "source": [
    "<div style=\"font-family: 'Arial', sans-serif; max-width: 800px; margin: auto; padding: 15px 0;\">\n",
    "    <p style=\"line-height: 1.6; color: #555;\">\n",
    "        I vår kurs <strong>\"Webserverprogrammering 1\"</strong> kommer vi ständigt att stöta på två centrala aktörer: <strong>klienten</strong> och <strong>servern</strong>.\n",
    "    </p>\n",
    "</div>\n",
    "\n",
    "<div style=\"font-family: 'Arial', sans-serif; max-width: 800px; margin: auto; padding: 15px 0;\">\n",
    "    <h2 style=\"color: #666;\">Klienten</h2>\n",
    "    <p style=\"line-height: 1.6; color: #555;\">Klienten är ofta en <strong>webbläsare</strong> som skickar förfrågningar till en server. Den väntar tålmodigt på ett svar, redo att presentera informationen för användaren.</p>\n",
    "</div>\n",
    "\n",
    "<div style=\"font-family: 'Arial', sans-serif; max-width: 800px; margin: auto; padding: 15px 0;\">\n",
    "    <h2 style=\"color: #666;\">Servern</h2>\n",
    "    <p style=\"line-height: 1.6; color: #555;\">Servern tar emot förfrågningar, behandlar dem, och skickar tillbaka lämpligt innehåll. All denna kommunikation sker via <strong>HTTP</strong> (HyperText Transfer Protocol).</p>\n",
    "</div>\n",
    "\n",
    "<div style=\"font-family: 'Arial', sans-serif; max-width: 800px; margin: auto; padding: 15px 0;\">\n",
    "    <h2 style=\"color: #666;\">Liknelsen med en Restaurang</h2>\n",
    "    <p style=\"line-height: 1.6; color: #555;\">Tänk dig att du (klienten) besöker en restaurang (servern). Du frågar efter en specifik rätt från deras meny (applikationen), och restaurangen förbereder och serverar den åt dig.</p>\n",
    "    <div style=\"text-align: center; margin: 20px 0;\">\n",
    "        <img src=\"images/request-response.jpeg\" alt=\"Request-response illustration\">\n",
    "    </div>\n",
    "</div>\n"
   ]
  },
  {
   "cell_type": "markdown",
   "metadata": {},
   "source": [
    "<hr style=\"border-top: 1px solid #eee; margin: 20px 0;\">\n",
    "\n",
    "<div class=\"section\" style=\"font-family: 'Arial', sans-serif; max-width: 800px; margin: auto; padding: 15px 0\">\n",
    "    <p style=\"line-height: 1.6; color: #555\">\n",
    "        Nu ska vi titta närmare på hur vi kan bygga en server med hjälp av ramverket Flask. I detta avsnitt kommer vi att dra paralleller mellan serverns funktioner och en restaurangs verksamhet.\n",
    "    </p>\n",
    "</div>\n",
    "\n",
    "<div class=\"section\" style=\"font-family: 'Arial', sans-serif; max-width: 800px; margin: auto; padding: 15px 0\">\n",
    "    <h2 style=\"color: #666\">Flask</h2>\n",
    "    <p style=\"line-height: 1.6; color: #555\">\n",
    "        Flask är ett av de mest populära ramverken för att skapa webbapplikationer och backend-API:er med Python. Tack vare dess enkelhet och användarvänlighet har vi valt att fokusera på Flask i denna kurs.\n",
    "    </p>\n",
    "</div>\n"
   ]
  },
  {
   "cell_type": "markdown",
   "metadata": {},
   "source": [
    "<div class=\"section\" style=\"font-family: 'Arial', sans-serif; max-width: 800px; margin: auto; padding: 15px 0\">\n",
    "    <h3 style=\"color: #666\">1. Importera Flask-klassen</h3>\n",
    "    <p style=\"line-height: 1.6; color: #555\">\n",
    "        Först behöver vi de rätta verktygen för att bygga vår webbapplikation. Genom att använda koden:\n",
    "    </p>\n",
    "    <div style=\"background-color: #f7f7f7; padding: 10px; border: 1px solid #ddd; border-radius: 5px;\">\n",
    "        <code>from flask import Flask</code>\n",
    "    </div>\n",
    "    <p style=\"line-height: 1.6; color: #555; margin-top: 10px;\">\n",
    "        importerar vi <code>Flask</code>-klassen från <code>flask</code>-modulen. Detta steg är avgörande för att skapa en Flask-webbapplikation. Liknelsen med restaurangen? Tänk dig att en kock först behöver sina verktyg innan matlagningen kan börja.\n",
    "    </p>\n",
    "</div>\n"
   ]
  },
  {
   "cell_type": "markdown",
   "metadata": {},
   "source": [
    "<div class=\"section\" style=\"font-family: 'Arial', sans-serif; max-width: 800px; margin: auto; padding: 15px 0\">\n",
    "    <h3 style=\"color: #666\">2. Skapa en Flask-instans</h3>\n",
    "    <p style=\"line-height: 1.6; color: #555\">\n",
    "        För att sätta igång vår server behöver vi skapa en instans av Flask. Det gör vi med hjälp av följande kod:\n",
    "    </p>\n",
    "    <div style=\"background-color: #f7f7f7; padding: 10px; border: 1px solid #ddd; border-radius: 5px;\">\n",
    "        <code>app = Flask(__name__)</code>\n",
    "    </div>\n",
    "    <p style=\"line-height: 1.6; color: #555; margin-top: 10px;\">\n",
    "        Genom detta steg skapar vi en instans av <code>Flask</code>, kallad <code>app</code>. Tänk på det som att vi startar en liten server på vår dator. Denna server är redo att lyssna på förfrågningar från besökare och skicka tillbaka information, som en webbsida. \n",
    "        <br><br>\n",
    "        Servern, eller vår Flask-instans, behöver också veta var den kan hitta innehållet den behöver leverera. Argumentet <code>__name__</code> pekar ut var denna information finns. När Flask ser detta vet den standardmässigt att den bör söka i mapparna <code>templates</code> för HTML-filer och <code>static</code> för statiska filer som bilder och CSS. Men vi kommer att gå djupare in på detta senare när vi börjar rendera HTML-filer.\n",
    "        <br><br>\n",
    "        För att förstå detta bättre med en restaurangliknelse: Tänk på <code>app</code> (vår Flask-instans) som restaurangens kock. Kocken behöver veta var ingredienserna finns för att kunna laga maten. På samma sätt behöver vår server veta var alla filer finns för att kunna skapa och leverera webbsidor till besökare. Argumentet <code>__name__</code> fungerar som en guide eller karta som visar kocken var allt är lagrat i köket.\n",
    "    </p>\n",
    "</div>\n"
   ]
  },
  {
   "cell_type": "markdown",
   "metadata": {},
   "source": [
    "<div class=\"section\" style=\"font-family: 'Arial', sans-serif; max-width: 800px; margin: auto; padding: 15px 0\">\n",
    "    <h3 style=\"color: #666\">3. Definiera en route och funktion</h3>\n",
    "    <p style=\"line-height: 1.6; color: #555\">\n",
    "        En viktig del av Flask är konceptet av en route. En route bestämmer vilken webbadress som aktiverar en viss funktion i din app. För att definiera en route använder vi följande kod:\n",
    "    </p>\n",
    "    <div style=\"background-color: #f7f7f7; padding: 10px; border: 1px solid #ddd; border-radius: 5px; white-space: nowrap;\">\n",
    "        <code>@app.route(\"/\")</code><br>\n",
    "        <code>def hello():</code><br>\n",
    "        <span style=\"display: inline-block; margin-left: 20px;\"><code>\n",
    "        return \"Hello World!\"</code></span>\n",
    "    </div>\n",
    "    <p style=\"line-height: 1.6; color: #555; margin-top: 10px;\">\n",
    "        Dekoratorn <code>@app.route(\"/\")</code> talar om för Flask att funktionen <code>hello()</code> direkt nedanför bör köras när besökare kommer till webbadressen \"/\". När detta inträffar kommer Flask att svara med det meddelande som returneras av funktionen, i detta fall texten \"Hello World!\".\n",
    "        <br><br>\n",
    "        Om vi fortsätter med vår restaurangliknelse: Denna kod kan ses som en specifik rätt på menyn. När en gäst beställer denna rätt (besöker \"/\"), serverar kocken (Flask-servern) dem med det exakta svar som anges av funktionen, vilket i detta fall är en enkel hälsning.\n",
    "    </p>\n",
    "</div>\n"
   ]
  },
  {
   "cell_type": "markdown",
   "metadata": {},
   "source": [
    "<div class=\"section\" style=\"font-family: 'Arial', sans-serif; max-width: 800px; margin: auto; padding: 15px 0\">\n",
    "    <h3 style=\"color: #666\">4. Starta servern</h3>\n",
    "    <p style=\"line-height: 1.6; color: #555\">\n",
    "        För att starta servern och faktiskt sätta igång vår Flask-app, används följande kod:\n",
    "    </p>\n",
    "    <div style=\"background-color: #f7f7f7; padding: 10px; border: 1px solid #ddd; border-radius: 5px; white-space: nowrap;\">\n",
    "        <code>if __name__ == \"__main__\":</code><br>\n",
    "        <span style=\"display: inline-block; margin-left: 20px;\"><code>app.run(debug=True, port=3000)</code></span>\n",
    "    </div>\n",
    "    <p style=\"line-height: 1.6; color: #555; margin-top: 10px;\">\n",
    "        Den inledande raden, <code>if __name__ == \"__main__\":</code>, är en vanlig Python-idiom som säkerställer att servern endast startas när detta skript körs direkt. Den hindrar servern från att startas när skriptet importeras som en modul någon annanstans. Därefter säger <code>app.run(debug=True, port=3000)</code> till Flask att starta servern med vissa specifikationer: i debug-läge (vilket innebär att servern kommer att uppdatera sig själv vid kodändringar) och på port 3000.\n",
    "        <br><br>\n",
    "        Om vi skulle likna detta med att driva en restaurang, så kan du tänka dig detta steg som att faktiskt öppna restaurangens dörrar för kunderna. Utan att ta detta steg kan ingen komma in och beställa mat, trots att allt annat är på plats.\n",
    "    </p>\n",
    "</div>\n"
   ]
  },
  {
   "cell_type": "markdown",
   "metadata": {},
   "source": [
    "<hr style=\"border-top: 1px solid #eee; margin: 20px 0;\">\n"
   ]
  },
  {
   "cell_type": "markdown",
   "metadata": {},
   "source": [
    "<div class=\"section\" style=\"font-family: 'Arial', sans-serif; max-width: 800px; margin: auto; padding: 15px 0\">\n",
    "    <h3 style=\"color: #666\">Instruktioner för att köra din Flask-server genom app.py</h3>\n",
    "    <p style=\"line-height: 1.6; color: #555\">\n",
    "        För att köra servern kommer vi att använda en fil vid namn <strong>app.py</strong>, som befinner sig i samma mapp som denna fil <strong>flask_server_grunden</strong>.\n",
    "        <br><br>\n",
    "        <strong>Via Terminalen i VSCode:</strong>\n",
    "        <br>Öppna terminalen och navigera till mappen där `app.py` är placerad. Skriv sedan in <code>python app.py</code> och tryck Enter. Detta initierar din Flask-server.\n",
    "        <br><br>\n",
    "        <strong>Genom \"Run\"-knappen i VSCode:</strong>\n",
    "        <br>När du har `app.py` öppen, leta reda på och klicka på \"Run\"-knappen för att starta servern.\n",
    "        <br><br>\n",
    "        Oavsett vilken metod du väljer, bör servern vanligtvis vara tillgänglig på port 3000. Det innebär att du kan besöka din Flask-app genom att navigera till <code>http://localhost:3000</code> i din webbläsare.\n",
    "    </p>\n",
    "</div>\n"
   ]
  },
  {
   "cell_type": "markdown",
   "metadata": {},
   "source": [
    "<div class=\"section\" style=\"font-family: 'Arial', sans-serif; max-width: 800px; margin: auto; padding: 25px; border-radius: 8px;\">\n",
    "    <p style=\"line-height: 1.6; text-align:center; font-size: 18px;\">\n",
    "        Tack för att du följt denna guide! 🚀\n",
    "    </p>\n",
    "    <p style=\"line-height: 1.6; text-align:center;\">\n",
    "        Jag hoppas att du nu har en bättre förståelse för hur man startar en Flask-server. Om du har några ytterligare frågor eller funderingar, tveka inte att kontakta mig.\n",
    "    </p>\n",
    "    <div style=\"padding: 10px; display: inline-block;\">\n",
    "        <p style=\"line-height: 1.6; color: #333; text-align:center; font-weight: bold; margin: 0; font-family: 'Arial', sans-serif;\">\n",
    "            KaahinAtNTI\n",
    "        </p>\n",
    "    </div>\n",
    "</div>\n"
   ]
  }
 ],
 "metadata": {
  "kernelspec": {
   "display_name": "Python 3",
   "language": "python",
   "name": "python3"
  },
  "language_info": {
   "codemirror_mode": {
    "name": "ipython",
    "version": 3
   },
   "file_extension": ".py",
   "mimetype": "text/x-python",
   "name": "python",
   "nbconvert_exporter": "python",
   "pygments_lexer": "ipython3",
   "version": "3.10.12"
  }
 },
 "nbformat": 4,
 "nbformat_minor": 2
}
